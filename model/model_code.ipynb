{
 "cells": [
  {
   "cell_type": "markdown",
   "metadata": {},
   "source": [
    "# Project Eden - Machine Learning Magic"
   ]
  },
  {
   "cell_type": "markdown",
   "metadata": {},
   "source": [
    "## Import Dependencies"
   ]
  },
  {
   "cell_type": "code",
   "execution_count": 1,
   "metadata": {},
   "outputs": [],
   "source": [
    "import numpy as np\n",
    "import pandas as pd \n",
    "import matplotlib.pyplot as plt\n",
    "import sklearn as sk\n",
    "%matplotlib inline"
   ]
  },
  {
   "cell_type": "code",
   "execution_count": 2,
   "metadata": {
    "collapsed": true
   },
   "outputs": [],
   "source": [
    "file_path='model/production_clim_merged_georasters.csv'\n",
    "data=pd.read_csv(file_path)"
   ]
  },
  {
   "cell_type": "markdown",
   "metadata": {},
   "source": [
    "## Data Exploration"
   ]
  },
  {
   "cell_type": "code",
   "execution_count": 54,
   "metadata": {},
   "outputs": [
    {
     "name": "stdout",
     "output_type": "stream",
     "text": [
      "Index(['x', 'y', '01', '02', '03', '04', '05', '06', '07', '08', '09', '10',\n",
      "       '11', '12', '13', '14', '15', '16', '17', '18', '19', 'acof', 'bana',\n",
      "       'barl', 'bean', 'cass', 'chic', 'cnut', 'coco', 'cott', 'cowp', 'grou',\n",
      "       'lent', 'maiz', 'ocer', 'ofib', 'oilp', 'ooil', 'opul', 'orts', 'pige',\n",
      "       'plnt', 'pmil', 'pota', 'rape', 'rcof', 'rest', 'rice', 'sesa', 'smil',\n",
      "       'sorg', 'soyb', 'sugb', 'sugc', 'sunf', 'swpo', 'teas', 'temf', 'toba',\n",
      "       'trof', 'vege', 'whea', 'yams'],\n",
      "      dtype='object')\n",
      "63\n"
     ]
    }
   ],
   "source": [
    "print(data.columns)\n",
    "print(len(data.columns))"
   ]
  },
  {
   "cell_type": "code",
   "execution_count": 4,
   "metadata": {},
   "outputs": [
    {
     "data": {
      "text/html": [
       "<div>\n",
       "<style>\n",
       "    .dataframe thead tr:only-child th {\n",
       "        text-align: right;\n",
       "    }\n",
       "\n",
       "    .dataframe thead th {\n",
       "        text-align: left;\n",
       "    }\n",
       "\n",
       "    .dataframe tbody tr th {\n",
       "        vertical-align: top;\n",
       "    }\n",
       "</style>\n",
       "<table border=\"1\" class=\"dataframe\">\n",
       "  <thead>\n",
       "    <tr style=\"text-align: right;\">\n",
       "      <th></th>\n",
       "      <th>x</th>\n",
       "      <th>y</th>\n",
       "      <th>01</th>\n",
       "      <th>02</th>\n",
       "      <th>03</th>\n",
       "      <th>04</th>\n",
       "      <th>05</th>\n",
       "      <th>06</th>\n",
       "      <th>07</th>\n",
       "      <th>08</th>\n",
       "      <th>...</th>\n",
       "      <th>sugc</th>\n",
       "      <th>sunf</th>\n",
       "      <th>swpo</th>\n",
       "      <th>teas</th>\n",
       "      <th>temf</th>\n",
       "      <th>toba</th>\n",
       "      <th>trof</th>\n",
       "      <th>vege</th>\n",
       "      <th>whea</th>\n",
       "      <th>yams</th>\n",
       "    </tr>\n",
       "  </thead>\n",
       "  <tbody>\n",
       "    <tr>\n",
       "      <th>0</th>\n",
       "      <td>-37.166667</td>\n",
       "      <td>83.666667</td>\n",
       "      <td>0.0</td>\n",
       "      <td>0.0</td>\n",
       "      <td>17.645822</td>\n",
       "      <td>0.0</td>\n",
       "      <td>0.0</td>\n",
       "      <td>0.0</td>\n",
       "      <td>0.0</td>\n",
       "      <td>0.0</td>\n",
       "      <td>...</td>\n",
       "      <td>NaN</td>\n",
       "      <td>NaN</td>\n",
       "      <td>NaN</td>\n",
       "      <td>NaN</td>\n",
       "      <td>NaN</td>\n",
       "      <td>NaN</td>\n",
       "      <td>NaN</td>\n",
       "      <td>NaN</td>\n",
       "      <td>NaN</td>\n",
       "      <td>NaN</td>\n",
       "    </tr>\n",
       "    <tr>\n",
       "      <th>1</th>\n",
       "      <td>-37.083333</td>\n",
       "      <td>83.666667</td>\n",
       "      <td>0.0</td>\n",
       "      <td>0.0</td>\n",
       "      <td>19.059517</td>\n",
       "      <td>0.0</td>\n",
       "      <td>0.0</td>\n",
       "      <td>0.0</td>\n",
       "      <td>0.0</td>\n",
       "      <td>0.0</td>\n",
       "      <td>...</td>\n",
       "      <td>NaN</td>\n",
       "      <td>NaN</td>\n",
       "      <td>NaN</td>\n",
       "      <td>NaN</td>\n",
       "      <td>NaN</td>\n",
       "      <td>NaN</td>\n",
       "      <td>NaN</td>\n",
       "      <td>NaN</td>\n",
       "      <td>NaN</td>\n",
       "      <td>NaN</td>\n",
       "    </tr>\n",
       "    <tr>\n",
       "      <th>2</th>\n",
       "      <td>-37.000000</td>\n",
       "      <td>83.666667</td>\n",
       "      <td>0.0</td>\n",
       "      <td>0.0</td>\n",
       "      <td>20.045350</td>\n",
       "      <td>0.0</td>\n",
       "      <td>0.0</td>\n",
       "      <td>0.0</td>\n",
       "      <td>0.0</td>\n",
       "      <td>0.0</td>\n",
       "      <td>...</td>\n",
       "      <td>NaN</td>\n",
       "      <td>NaN</td>\n",
       "      <td>NaN</td>\n",
       "      <td>NaN</td>\n",
       "      <td>NaN</td>\n",
       "      <td>NaN</td>\n",
       "      <td>NaN</td>\n",
       "      <td>NaN</td>\n",
       "      <td>NaN</td>\n",
       "      <td>NaN</td>\n",
       "    </tr>\n",
       "    <tr>\n",
       "      <th>3</th>\n",
       "      <td>-36.916667</td>\n",
       "      <td>83.666667</td>\n",
       "      <td>0.0</td>\n",
       "      <td>0.0</td>\n",
       "      <td>19.985059</td>\n",
       "      <td>0.0</td>\n",
       "      <td>0.0</td>\n",
       "      <td>0.0</td>\n",
       "      <td>0.0</td>\n",
       "      <td>0.0</td>\n",
       "      <td>...</td>\n",
       "      <td>NaN</td>\n",
       "      <td>NaN</td>\n",
       "      <td>NaN</td>\n",
       "      <td>NaN</td>\n",
       "      <td>NaN</td>\n",
       "      <td>NaN</td>\n",
       "      <td>NaN</td>\n",
       "      <td>NaN</td>\n",
       "      <td>NaN</td>\n",
       "      <td>NaN</td>\n",
       "    </tr>\n",
       "    <tr>\n",
       "      <th>4</th>\n",
       "      <td>-36.833333</td>\n",
       "      <td>83.666667</td>\n",
       "      <td>0.0</td>\n",
       "      <td>0.0</td>\n",
       "      <td>19.797453</td>\n",
       "      <td>0.0</td>\n",
       "      <td>0.0</td>\n",
       "      <td>0.0</td>\n",
       "      <td>0.0</td>\n",
       "      <td>0.0</td>\n",
       "      <td>...</td>\n",
       "      <td>NaN</td>\n",
       "      <td>NaN</td>\n",
       "      <td>NaN</td>\n",
       "      <td>NaN</td>\n",
       "      <td>NaN</td>\n",
       "      <td>NaN</td>\n",
       "      <td>NaN</td>\n",
       "      <td>NaN</td>\n",
       "      <td>NaN</td>\n",
       "      <td>NaN</td>\n",
       "    </tr>\n",
       "  </tbody>\n",
       "</table>\n",
       "<p>5 rows × 63 columns</p>\n",
       "</div>"
      ],
      "text/plain": [
       "           x          y   01   02         03   04   05   06   07   08  ...   \\\n",
       "0 -37.166667  83.666667  0.0  0.0  17.645822  0.0  0.0  0.0  0.0  0.0  ...    \n",
       "1 -37.083333  83.666667  0.0  0.0  19.059517  0.0  0.0  0.0  0.0  0.0  ...    \n",
       "2 -37.000000  83.666667  0.0  0.0  20.045350  0.0  0.0  0.0  0.0  0.0  ...    \n",
       "3 -36.916667  83.666667  0.0  0.0  19.985059  0.0  0.0  0.0  0.0  0.0  ...    \n",
       "4 -36.833333  83.666667  0.0  0.0  19.797453  0.0  0.0  0.0  0.0  0.0  ...    \n",
       "\n",
       "   sugc  sunf  swpo  teas  temf  toba  trof  vege  whea  yams  \n",
       "0   NaN   NaN   NaN   NaN   NaN   NaN   NaN   NaN   NaN   NaN  \n",
       "1   NaN   NaN   NaN   NaN   NaN   NaN   NaN   NaN   NaN   NaN  \n",
       "2   NaN   NaN   NaN   NaN   NaN   NaN   NaN   NaN   NaN   NaN  \n",
       "3   NaN   NaN   NaN   NaN   NaN   NaN   NaN   NaN   NaN   NaN  \n",
       "4   NaN   NaN   NaN   NaN   NaN   NaN   NaN   NaN   NaN   NaN  \n",
       "\n",
       "[5 rows x 63 columns]"
      ]
     },
     "execution_count": 4,
     "metadata": {},
     "output_type": "execute_result"
    }
   ],
   "source": [
    "data.head()"
   ]
  },
  {
   "cell_type": "markdown",
   "metadata": {},
   "source": [
    "The first 2 columns are X, Y.\n",
    "\n",
    "The subsequent 19 columns are the features.\n",
    "\n",
    "The remaining 42 columns are the various crops."
   ]
  },
  {
   "cell_type": "code",
   "execution_count": 15,
   "metadata": {},
   "outputs": [
    {
     "name": "stdout",
     "output_type": "stream",
     "text": [
      "Number of NaNs in the dataframe:\n",
      " x             0\n",
      "y             0\n",
      "01            0\n",
      "02            0\n",
      "03         4556\n",
      "04            0\n",
      "05            0\n",
      "06            0\n",
      "07            0\n",
      "08            0\n",
      "09            0\n",
      "10            0\n",
      "11            0\n",
      "12            0\n",
      "13            0\n",
      "14            0\n",
      "15            0\n",
      "16            0\n",
      "17            0\n",
      "18            0\n",
      "19            0\n",
      "acof    2422794\n",
      "bana    2422794\n",
      "barl    2422794\n",
      "bean    2422794\n",
      "cass    2422794\n",
      "chic    2422794\n",
      "cnut    2422794\n",
      "coco    2422794\n",
      "cott    2422794\n",
      "         ...   \n",
      "maiz    2422794\n",
      "ocer    2422794\n",
      "ofib    2422794\n",
      "oilp    2422794\n",
      "ooil    2422794\n",
      "opul    2422794\n",
      "orts    2422794\n",
      "pige    2422794\n",
      "plnt    2422794\n",
      "pmil    2422794\n",
      "pota    2422794\n",
      "rape    2422794\n",
      "rcof    2422794\n",
      "rest    2422794\n",
      "rice    2422794\n",
      "sesa    2422794\n",
      "smil    2422794\n",
      "sorg    2422794\n",
      "soyb    2422794\n",
      "sugb    2422794\n",
      "sugc    2422794\n",
      "sunf    2422794\n",
      "swpo    2422794\n",
      "teas    2422794\n",
      "temf    2422794\n",
      "toba    2422794\n",
      "trof    2422794\n",
      "vege    2422794\n",
      "whea    2422794\n",
      "yams    2422794\n",
      "Length: 63, dtype: int64\n"
     ]
    }
   ],
   "source": [
    "print('Number of NaNs in the dataframe:\\n',data.isnull().sum())"
   ]
  },
  {
   "cell_type": "code",
   "execution_count": 66,
   "metadata": {},
   "outputs": [
    {
     "name": "stdout",
     "output_type": "stream",
     "text": [
      "                x          y        01        02         03          04  \\\n",
      "166309  27.583333  71.166667  0.474861  3.859167  21.561590  568.764901   \n",
      "166310  27.666667  71.166667  1.248333  3.903333  20.648446  531.442762   \n",
      "168206  23.833333  71.083333  1.658333  3.166667  19.947351  485.091153   \n",
      "168207  23.916667  71.083333  1.875409  4.060621  19.878740  497.253663   \n",
      "168208  24.000000  71.083333  1.970569  4.249603  19.296813  500.055884   \n",
      "\n",
      "               05        06         07        08  ...   sugc  sunf  swpo  \\\n",
      "166309  11.606667 -7.526667  19.133333  1.082778  ...    0.0   0.0   0.0   \n",
      "166310  11.460000 -6.680000  18.140000  1.944444  ...    0.0   0.0   0.0   \n",
      "168206  10.480000 -5.800000  16.280000 -0.146667  ...    0.0   0.0   0.0   \n",
      "168207  11.288236 -6.741177  18.029412  0.015033  ...    0.0   0.0   0.0   \n",
      "168208  11.341269 -6.687302  18.028571  0.054762  ...    0.0   0.0   0.0   \n",
      "\n",
      "        teas  temf  toba  trof  vege  whea  yams  \n",
      "166309   0.0   1.0   0.0   0.0   0.0   0.0   0.0  \n",
      "166310   0.0   1.4   0.0   0.0   0.0   0.0   0.0  \n",
      "168206   0.0   1.4   0.0   0.0   0.0   0.0   0.0  \n",
      "168207   0.0   1.0   0.0   0.0   0.0   0.0   0.0  \n",
      "168208   0.0   2.3   0.0   0.0   0.0   0.0   0.0  \n",
      "\n",
      "[5 rows x 63 columns]\n"
     ]
    }
   ],
   "source": [
    "data_no_nan= data[data['bana'].notnull()]\n",
    "data_nan = data[data['bana'].isnull()]\n",
    "print (data_no_nan.head())\n",
    "# This Cell is part of Data Manipulation and is essential for correct execution."
   ]
  },
  {
   "cell_type": "code",
   "execution_count": 24,
   "metadata": {},
   "outputs": [
    {
     "name": "stdout",
     "output_type": "stream",
     "text": [
      "2422794\n",
      "2422794\n"
     ]
    }
   ],
   "source": [
    "print(data['acof'].isnull().sum())\n",
    "print(len(data_nan.index))"
   ]
  },
  {
   "cell_type": "code",
   "execution_count": 30,
   "metadata": {
    "scrolled": true
   },
   "outputs": [
    {
     "name": "stdout",
     "output_type": "stream",
     "text": [
      "(array([  83503.,  200315.,  254722.,  261847.,  164247.,  321389.,\n",
      "        300275.,  334446.,  344678.,  157372.]), array([ -1.80000000e+02,  -1.44008333e+02,  -1.08016667e+02,\n",
      "        -7.20250000e+01,  -3.60333333e+01,  -4.16666650e-02,\n",
      "         3.59500000e+01,   7.19416667e+01,   1.07933333e+02,\n",
      "         1.43925000e+02,   1.79916667e+02]), <a list of 10 Patch objects>)\n"
     ]
    },
    {
     "data": {
      "image/png": "[encoded data removed]",
      "text/plain": [
       "<matplotlib.figure.Figure at 0x10f9bc160>"
      ]
     },
     "metadata": {},
     "output_type": "display_data"
    }
   ],
   "source": [
    "plt.hist(data[data['bana'].isnull()]['x'])"
   ]
  },
  {
   "cell_type": "code",
   "execution_count": 26,
   "metadata": {},
   "outputs": [
    {
     "data": {
      "text/plain": [
       "(array([    270.,   22453.,  102469.,   96888.,   34028.,  175221.,\n",
       "         112625.,  105678.,   85860.,   11928.]),\n",
       " array([-179.16666667, -143.25833334, -107.35      ,  -71.44166667,\n",
       "         -35.53333333,    0.375     ,   36.28333333,   72.19166667,\n",
       "         108.1       ,  144.00833334,  179.91666667]),\n",
       " <a list of 10 Patch objects>)"
      ]
     },
     "execution_count": 26,
     "metadata": {},
     "output_type": "execute_result"
    },
    {
     "data": {
      "image/png": "[encoded data removed]",
      "text/plain": [
       "<matplotlib.figure.Figure at 0x10f9ee5c0>"
      ]
     },
     "metadata": {},
     "output_type": "display_data"
    }
   ],
   "source": [
    "plt.hist(data[data['bana'].notnull()]['x'])"
   ]
  },
  {
   "cell_type": "code",
   "execution_count": 27,
   "metadata": {},
   "outputs": [
    {
     "data": {
      "text/plain": [
       "(array([ 762163.,  119209.,   21593.,  112944.,   88782.,   99508.,\n",
       "         192347.,  222521.,  468782.,  334945.]),\n",
       " array([-89.91666667, -72.55833334, -55.2       , -37.84166667,\n",
       "        -20.48333333,  -3.125     ,  14.23333333,  31.59166667,\n",
       "         48.95      ,  66.30833334,  83.66666667]),\n",
       " <a list of 10 Patch objects>)"
      ]
     },
     "execution_count": 27,
     "metadata": {},
     "output_type": "execute_result"
    },
    {
     "data": {
      "image/png": "[encoded data removed]",
      "text/plain": [
       "<matplotlib.figure.Figure at 0x1215cb208>"
      ]
     },
     "metadata": {},
     "output_type": "display_data"
    }
   ],
   "source": [
    "plt.hist(data[data['bana'].isnull()]['y'])"
   ]
  },
  {
   "cell_type": "code",
   "execution_count": 28,
   "metadata": {
    "scrolled": true
   },
   "outputs": [
    {
     "data": {
      "text/plain": [
       "(array([   3119.,   26972.,   49427.,   90908.,   77564.,   87807.,\n",
       "         113377.,  157792.,  124927.,   15527.]),\n",
       " array([-55.33333333, -42.68333333, -30.03333333, -17.38333333,\n",
       "         -4.73333333,   7.91666667,  20.56666667,  33.21666667,\n",
       "         45.86666667,  58.51666667,  71.16666667]),\n",
       " <a list of 10 Patch objects>)"
      ]
     },
     "execution_count": 28,
     "metadata": {},
     "output_type": "execute_result"
    },
    {
     "data": {
      "image/png": "[encoded data removed]",
      "text/plain": [
       "<matplotlib.figure.Figure at 0x16a995f28>"
      ]
     },
     "metadata": {},
     "output_type": "display_data"
    }
   ],
   "source": [
    "plt.hist(data[data['bana'].notnull()]['y'])"
   ]
  },
  {
   "cell_type": "code",
   "execution_count": 31,
   "metadata": {},
   "outputs": [
    {
     "name": "stdout",
     "output_type": "stream",
     "text": [
      "(array([  83503.,  200315.,  254722.,  261847.,  164247.,  321389.,\n",
      "        300275.,  334446.,  344678.,  157372.]), array([ -1.80000000e+02,  -1.44008333e+02,  -1.08016667e+02,\n",
      "        -7.20250000e+01,  -3.60333333e+01,  -4.16666650e-02,\n",
      "         3.59500000e+01,   7.19416667e+01,   1.07933333e+02,\n",
      "         1.43925000e+02,   1.79916667e+02]), <a list of 10 Patch objects>)\n",
      "(array([    270.,   22453.,  102469.,   96888.,   34028.,  175221.,\n",
      "        112625.,  105678.,   85860.,   11928.]), array([-179.16666667, -143.25833334, -107.35      ,  -71.44166667,\n",
      "        -35.53333333,    0.375     ,   36.28333333,   72.19166667,\n",
      "        108.1       ,  144.00833334,  179.91666667]), <a list of 10 Patch objects>)\n",
      "(array([ 762163.,  119209.,   21593.,  112944.,   88782.,   99508.,\n",
      "        192347.,  222521.,  468782.,  334945.]), array([-89.91666667, -72.55833334, -55.2       , -37.84166667,\n",
      "       -20.48333333,  -3.125     ,  14.23333333,  31.59166667,\n",
      "        48.95      ,  66.30833334,  83.66666667]), <a list of 10 Patch objects>)\n",
      "(array([   3119.,   26972.,   49427.,   90908.,   77564.,   87807.,\n",
      "        113377.,  157792.,  124927.,   15527.]), array([-55.33333333, -42.68333333, -30.03333333, -17.38333333,\n",
      "        -4.73333333,   7.91666667,  20.56666667,  33.21666667,\n",
      "        45.86666667,  58.51666667,  71.16666667]), <a list of 10 Patch objects>)\n"
     ]
    },
    {
     "data": {
      "image/png": "[encoded data removed]",
      "text/plain": [
       "<matplotlib.figure.Figure at 0x10f9c8208>"
      ]
     },
     "metadata": {},
     "output_type": "display_data"
    }
   ],
   "source": [
    "print(plt.hist(data[data['coco'].isnull()]['x']))\n",
    "print(plt.hist(data[data['coco'].notnull()]['x']))\n",
    "print(plt.hist(data[data['coco'].isnull()]['y']))\n",
    "print(plt.hist(data[data['coco'].notnull()]['y']))"
   ]
  },
  {
   "cell_type": "code",
   "execution_count": 32,
   "metadata": {},
   "outputs": [
    {
     "name": "stdout",
     "output_type": "stream",
     "text": [
      "(array([  83503.,  200315.,  254722.,  261847.,  164247.,  321389.,\n",
      "        300275.,  334446.,  344678.,  157372.]), array([ -1.80000000e+02,  -1.44008333e+02,  -1.08016667e+02,\n",
      "        -7.20250000e+01,  -3.60333333e+01,  -4.16666650e-02,\n",
      "         3.59500000e+01,   7.19416667e+01,   1.07933333e+02,\n",
      "         1.43925000e+02,   1.79916667e+02]), <a list of 10 Patch objects>)\n",
      "(array([    270.,   22453.,  102469.,   96888.,   34028.,  175221.,\n",
      "        112625.,  105678.,   85860.,   11928.]), array([-179.16666667, -143.25833334, -107.35      ,  -71.44166667,\n",
      "        -35.53333333,    0.375     ,   36.28333333,   72.19166667,\n",
      "        108.1       ,  144.00833334,  179.91666667]), <a list of 10 Patch objects>)\n",
      "(array([ 762163.,  119209.,   21593.,  112944.,   88782.,   99508.,\n",
      "        192347.,  222521.,  468782.,  334945.]), array([-89.91666667, -72.55833334, -55.2       , -37.84166667,\n",
      "       -20.48333333,  -3.125     ,  14.23333333,  31.59166667,\n",
      "        48.95      ,  66.30833334,  83.66666667]), <a list of 10 Patch objects>)\n",
      "(array([   3119.,   26972.,   49427.,   90908.,   77564.,   87807.,\n",
      "        113377.,  157792.,  124927.,   15527.]), array([-55.33333333, -42.68333333, -30.03333333, -17.38333333,\n",
      "        -4.73333333,   7.91666667,  20.56666667,  33.21666667,\n",
      "        45.86666667,  58.51666667,  71.16666667]), <a list of 10 Patch objects>)\n"
     ]
    },
    {
     "data": {
      "image/png": "[encoded data removed]",
      "text/plain": [
       "<matplotlib.figure.Figure at 0x16a9959e8>"
      ]
     },
     "metadata": {},
     "output_type": "display_data"
    }
   ],
   "source": [
    "print(plt.hist(data[data['soyb'].isnull()]['x']))\n",
    "print(plt.hist(data[data['soyb'].notnull()]['x']))\n",
    "print(plt.hist(data[data['soyb'].isnull()]['y']))\n",
    "print(plt.hist(data[data['soyb'].notnull()]['y']))"
   ]
  },
  {
   "cell_type": "markdown",
   "metadata": {},
   "source": [
    "Data has been split between points that have crop data and those that don't."
   ]
  },
  {
   "cell_type": "markdown",
   "metadata": {},
   "source": [
    "## Model Training"
   ]
  },
  {
   "cell_type": "code",
   "execution_count": 63,
   "metadata": {},
   "outputs": [],
   "source": [
    "from sklearn.model_selection import train_test_split\n",
    "from sklearn.linear_model import Lasso"
   ]
  },
  {
   "cell_type": "code",
   "execution_count": 62,
   "metadata": {},
   "outputs": [],
   "source": [
    "X = data_no_nan.iloc[:,:21] #features of our data, that is, non-NaN\n",
    "crops = {column : data_no_nan[column] for column in data_no_nan.columns[21:]}"
   ]
  },
  {
   "cell_type": "code",
   "execution_count": 49,
   "metadata": {
    "collapsed": true
   },
   "outputs": [],
   "source": [
    "#start of iteration"
   ]
  },
  {
   "cell_type": "code",
   "execution_count": null,
   "metadata": {},
   "outputs": [
    {
     "name": "stderr",
     "output_type": "stream",
     "text": [
      "/Users/emilioaureafuentes/anaconda2/envs/data-x/lib/python3.6/site-packages/sklearn/linear_model/coordinate_descent.py:484: ConvergenceWarning: Objective did not converge. You might want to increase the number of iterations. Fitting data with very small alpha may cause precision problems.\n",
      "  ConvergenceWarning)\n"
     ]
    }
   ],
   "source": [
    "models = {}\n",
    "for crop in crops:\n",
    "    Y = crops[crop]\n",
    "    x_train,x_test,y_train,y_test = train_test_split(X,Y, test_size = 0.15, random_state = 42)\n",
    "    model = Lasso()\n",
    "    lassoreg = Lasso.fit(model, x_train, y_train)\n",
    "    models[crop] = model"
   ]
  },
  {
   "cell_type": "code",
   "execution_count": 80,
   "metadata": {},
   "outputs": [
    {
     "name": "stdout",
     "output_type": "stream",
     "text": [
      "acof score: -0.00442018569735\n",
      "bana score: 0.00100009776016\n",
      "barl score: -0.122047273683\n",
      "bean score: -0.00336260365744\n",
      "cass score: -0.140758367792\n",
      "chic score: -0.00662451533468\n",
      "cnut score: 0.00571211030151\n",
      "coco score: -0.00133204961955\n",
      "cott score: -0.00263183337989\n",
      "cowp score: -0.00165536140859\n",
      "grou score: 0.00694312883745\n",
      "lent score: -0.00636849414666\n",
      "maiz score: -2.02551203514\n",
      "ocer score: -0.023521920932\n",
      "ofib score: -0.00590732458174\n",
      "oilp score: -0.717542748381\n",
      "ooil score: 0.00171693520268\n",
      "opul score: -0.00360375838966\n",
      "orts score: 0.0210411986094\n",
      "pige score: -0.00582672599828\n",
      "plnt score: 0.00939863027393\n",
      "pmil score: 0.0006491657561\n",
      "pota score: -0.273124019058\n",
      "rape score: -0.0121318023921\n",
      "rcof score: -0.00411392009756\n",
      "rest score: 0.00393161105482\n",
      "rice score: -0.257213231075\n",
      "sesa score: -0.00482954767598\n",
      "smil score: -0.00449413766205\n",
      "sorg score: 0.0100246486207\n",
      "soyb score: -0.399611947749\n",
      "sugb score: -0.357922553478\n",
      "sugc score: -4.60386280539\n",
      "sunf score: -0.00606636736104\n",
      "swpo score: -0.112967059535\n",
      "teas score: -0.00553004691851\n",
      "temf score: -0.0950525223738\n",
      "toba score: -0.00605738608952\n",
      "trof score: -0.329424189985\n",
      "vege score: -2.45221949302\n",
      "whea score: -0.897476369614\n",
      "yams score: 0.0648688212506\n"
     ]
    }
   ],
   "source": [
    "scores = {}\n",
    "for crop in models:\n",
    "    model = models[crop]\n",
    "    scores[crop] = model.score(x_test, y_test)\n",
    "for crop in scores:\n",
    "    print (\"{0} score: {1}\".format(crop, str(scores[crop])))"
   ]
  },
  {
   "cell_type": "code",
   "execution_count": 75,
   "metadata": {},
   "outputs": [
    {
     "name": "stdout",
     "output_type": "stream",
     "text": [
      "[  87.44226292   -8.47502431   81.84553229 ...,  105.85701932  101.16675615\n",
      "   36.11631602]\n"
     ]
    }
   ],
   "source": [
    "p1 = lassoreg.predict(x_train) # train predictions\n",
    "print (p1)"
   ]
  },
  {
   "cell_type": "code",
   "execution_count": null,
   "metadata": {},
   "outputs": [],
   "source": [
    "p2 = lassoreg.predict(x_test) #test set predictions"
   ]
  },
  {
   "cell_type": "code",
   "execution_count": null,
   "metadata": {},
   "outputs": [],
   "source": [
    "p3 = lassoreg.predict(data_nan.iloc[:,:21]) #nan predictions"
   ]
  },
  {
   "cell_type": "code",
   "execution_count": null,
   "metadata": {},
   "outputs": [],
   "source": [
    "len(p1) + len(p2) + len(p3)"
   ]
  },
  {
   "cell_type": "code",
   "execution_count": null,
   "metadata": {},
   "outputs": [],
   "source": [
    "p1,"
   ]
  },
  {
   "cell_type": "code",
   "execution_count": null,
   "metadata": {},
   "outputs": [],
   "source": [
    "prediction_1 = x_test.drop(['1','2','3','4','5','6','7','8','9','10','11','12','13','14','15','16','17','18','19'], axis = 1)\n",
    "prediction_1['Prediction'] = p2"
   ]
  },
  {
   "cell_type": "code",
   "execution_count": null,
   "metadata": {},
   "outputs": [],
   "source": [
    "prediction_1"
   ]
  },
  {
   "cell_type": "code",
   "execution_count": null,
   "metadata": {
    "collapsed": true
   },
   "outputs": [],
   "source": [
    "#iterate through all the crops, change hyperparameters, join 3 tables for three prediction sets (test, train, nan)"
   ]
  }
 ],
 "metadata": {
  "kernelspec": {
   "display_name": "Python [conda env:data-x]",
   "language": "python",
   "name": "conda-env-data-x-py"
  },
  "language_info": {
   "codemirror_mode": {
    "name": "ipython",
    "version": 3
   },
   "file_extension": ".py",
   "mimetype": "text/x-python",
   "name": "python",
   "nbconvert_exporter": "python",
   "pygments_lexer": "ipython3",
   "version": "3.6.5"
  }
 },
 "nbformat": 4,
 "nbformat_minor": 2
}

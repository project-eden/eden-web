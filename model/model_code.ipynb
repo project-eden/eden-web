{
 "cells": [
  {
   "cell_type": "markdown",
   "metadata": {},
   "source": [
    "# Project Eden - Machine Learning Magic"
   ]
  },
  {
   "cell_type": "markdown",
   "metadata": {},
   "source": [
    "## Import Dependencies"
   ]
  },
  {
   "cell_type": "code",
   "execution_count": null,
   "metadata": {},
   "outputs": [],
   "source": [
    "import numpy as np\n",
    "import pandas as pd \n",
    "import matplotlib.pyplot as plt\n",
    "import sklearn as sk\n",
    "%matplotlib inline"
   ]
  },
  {
   "cell_type": "code",
   "execution_count": null,
   "metadata": {
    "collapsed": true
   },
   "outputs": [],
   "source": [
    "file_path='model/production_clim_merged_georasters.csv'\n",
    "data=pd.read_csv(file_path)"
   ]
  },
  {
   "cell_type": "markdown",
   "metadata": {},
   "source": [
    "## Data Exploration"
   ]
  },
  {
   "cell_type": "code",
   "execution_count": null,
   "metadata": {},
   "outputs": [],
   "source": [
    "print(data.columns)\n",
    "print(len(data.columns))"
   ]
  },
  {
   "cell_type": "code",
   "execution_count": null,
   "metadata": {},
   "outputs": [],
   "source": [
    "data.head()"
   ]
  },
  {
   "cell_type": "markdown",
   "metadata": {},
   "source": [
    "The first 2 columns are X, Y.\n",
    "\n",
    "The subsequent 19 columns are the features.\n",
    "\n",
    "The remaining 42 columns are the various crops."
   ]
  },
  {
   "cell_type": "code",
   "execution_count": null,
   "metadata": {},
   "outputs": [],
   "source": [
    "print('Number of NaNs in the dataframe:\\n',data.isnull().sum())"
   ]
  },
  {
   "cell_type": "code",
   "execution_count": null,
   "metadata": {
    "scrolled": true
   },
   "outputs": [],
   "source": [
    "plt.hist(data[data['bana'].isnull()]['x'])"
   ]
  },
  {
   "cell_type": "code",
   "execution_count": null,
   "metadata": {},
   "outputs": [],
   "source": [
    "plt.hist(data[data['bana'].notnull()]['x'])"
   ]
  },
  {
   "cell_type": "code",
   "execution_count": null,
   "metadata": {},
   "outputs": [],
   "source": [
    "plt.hist(data[data['bana'].isnull()]['y'])"
   ]
  },
  {
   "cell_type": "code",
   "execution_count": null,
   "metadata": {
    "scrolled": true
   },
   "outputs": [],
   "source": [
    "plt.hist(data[data['bana'].notnull()]['y'])"
   ]
  },
  {
   "cell_type": "code",
   "execution_count": null,
   "metadata": {},
   "outputs": [],
   "source": [
    "print(plt.hist(data[data['coco'].isnull()]['x']))\n",
    "print(plt.hist(data[data['coco'].notnull()]['x']))\n",
    "print(plt.hist(data[data['coco'].isnull()]['y']))\n",
    "print(plt.hist(data[data['coco'].notnull()]['y']))"
   ]
  },
  {
   "cell_type": "code",
   "execution_count": null,
   "metadata": {},
   "outputs": [],
   "source": [
    "print(plt.hist(data[data['soyb'].isnull()]['x']))\n",
    "print(plt.hist(data[data['soyb'].notnull()]['x']))\n",
    "print(plt.hist(data[data['soyb'].isnull()]['y']))\n",
    "print(plt.hist(data[data['soyb'].notnull()]['y']))"
   ]
  },
  {
   "cell_type": "code",
   "execution_count": null,
   "metadata": {},
   "outputs": [],
   "source": [
    "print(plt.hist(data[data['03'].isnull()]['x']))\n",
    "print(plt.hist(data[data['03'].notnull()]['x']))\n",
    "print(plt.hist(data[data['03'].isnull()]['y']))\n",
    "print(plt.hist(data[data['03'].notnull()]['y']))"
   ]
  },
  {
   "cell_type": "markdown",
   "metadata": {},
   "source": [
    "## Data Manipulation"
   ]
  },
  {
   "cell_type": "code",
   "execution_count": null,
   "metadata": {},
   "outputs": [],
   "source": [
    "# This Cell is part of Data Manipulation and is essential for correct execution.\n",
    "# We will drop feature 03 because some are NaN\n",
    "del data['03']\n",
    "data_no_nan= data[data['bana'].notnull()]\n",
    "data_nan = data[data['bana'].isnull()]\n",
    "print (data_no_nan.head())\n",
    "# This Cell is part of Data Manipulation and is essential for correct execution."
   ]
  },
  {
   "cell_type": "code",
   "execution_count": null,
   "metadata": {},
   "outputs": [],
   "source": [
    "print(data['acof'].isnull().sum())\n",
    "print(len(data_nan.index))"
   ]
  },
  {
   "cell_type": "markdown",
   "metadata": {},
   "source": [
    "Data has been split between points that have crop data and those that don't."
   ]
  },
  {
   "cell_type": "markdown",
   "metadata": {},
   "source": [
    "## Model Training"
   ]
  },
  {
   "cell_type": "code",
   "execution_count": null,
   "metadata": {},
   "outputs": [],
   "source": [
    "from sklearn.model_selection import train_test_split\n",
    "from sklearn.linear_model import Lasso"
   ]
  },
  {
   "cell_type": "code",
   "execution_count": null,
   "metadata": {},
   "outputs": [],
   "source": [
    "X = data_no_nan.iloc[:,:20] #features of our data, that is, non-NaN\n",
    "crops = {column : data_no_nan[column] for column in data_no_nan.columns[20:]}"
   ]
  },
  {
   "cell_type": "code",
   "execution_count": null,
   "metadata": {
    "collapsed": true
   },
   "outputs": [],
   "source": [
    "#start of iteration"
   ]
  },
  {
   "cell_type": "code",
   "execution_count": null,
   "metadata": {},
   "outputs": [],
   "source": [
    "# Train on Lasso Model\n",
    "# In the future we can train on multiple different models in parallel and get the best one.\n",
    "models = {}\n",
    "for crop in crops:\n",
    "    Y = crops[crop]\n",
    "    x_train,x_test,y_train,y_test = train_test_split(X,Y, test_size = 0.15, random_state = 42)\n",
    "    model = Lasso()\n",
    "    lassoreg = Lasso.fit(model, x_train, y_train)\n",
    "    models[crop] = model"
   ]
  },
  {
   "cell_type": "code",
   "execution_count": null,
   "metadata": {},
   "outputs": [],
   "source": [
    "scores = {}\n",
    "for crop in models:\n",
    "    model = models[crop]\n",
    "    scores[crop] = model.score(x_test, y_test)\n",
    "for crop in scores:\n",
    "    print (\"{0} score: {1}\".format(crop, str(scores[crop])))"
   ]
  },
  {
   "cell_type": "code",
   "execution_count": null,
   "metadata": {
    "collapsed": true
   },
   "outputs": [],
   "source": [
    "# Here, we produce a dataframe that has the predictions for all crops for all locations\n",
    "columns = ['x', 'y'] + [crop for crop in crops][:2]\n",
    "df = pd.DataFrame([], columns=columns)\n",
    "\n",
    "all_data_feature_vectors = []\n",
    "x_values = []\n",
    "y_values = []\n",
    "for index, row in data.iterrows():\n",
    "    feature_vector = row[:20]\n",
    "    all_data_feature_vectors.append(feature_vector)\n",
    "    x_values.append(feature_vector['x'])\n",
    "    y_values.append(feature_vector['y'])\n",
    "\n",
    "df['x'] = np.array(x_values)\n",
    "df['y'] = np.array(y_values)\n",
    "\n",
    "for crop in crops:\n",
    "    crop_production = models[crop].predict(all_data_feature_vectors)\n",
    "    df[crop] = np.array(crop_production)\n",
    "    \n",
    "df.head()"
   ]
  },
  {
   "cell_type": "code",
   "execution_count": null,
   "metadata": {},
   "outputs": [],
   "source": []
  }
 ],
 "metadata": {
  "kernelspec": {
   "display_name": "Python [conda env:data-x]",
   "language": "python",
   "name": "conda-env-data-x-py"
  },
  "language_info": {
   "codemirror_mode": {
    "name": "ipython",
    "version": 3
   },
   "file_extension": ".py",
   "mimetype": "text/x-python",
   "name": "python",
   "nbconvert_exporter": "python",
   "pygments_lexer": "ipython3",
   "version": "3.6.5"
  }
 },
 "nbformat": 4,
 "nbformat_minor": 2
}

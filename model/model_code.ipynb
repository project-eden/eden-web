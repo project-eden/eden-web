{
 "cells": [
  {
   "cell_type": "code",
   "execution_count": 46,
   "metadata": {},
   "outputs": [],
   "source": [
    "import numpy as np\n",
    "import pandas as pd \n",
    "import matplotlib.pyplot as plt\n",
    "import sklearn as sk\n",
    "%matplotlib inline"
   ]
  },
  {
   "cell_type": "code",
   "execution_count": 6,
   "metadata": {
    "collapsed": true
   },
   "outputs": [],
   "source": [
    "file_path='production_clim_merged_georasters.csv'\n",
    "data=pd.read_csv(file_path)"
   ]
  },
  {
   "cell_type": "code",
   "execution_count": 25,
   "metadata": {},
   "outputs": [
    {
     "data": {
      "text/plain": [
       "Index(['acof', 'bana', 'barl', 'bean', 'cass', 'chic', 'cnut', 'coco', 'cott',\n",
       "       'cowp', 'grou', 'lent', 'maiz', 'ocer', 'ofib', 'oilp', 'ooil', 'opul',\n",
       "       'orts', 'pige', 'plnt', 'pmil', 'pota', 'rape', 'rcof', 'rest', 'rice',\n",
       "       'sesa', 'smil', 'sorg', 'soyb', 'sugb', 'sugc', 'sunf', 'swpo', 'teas',\n",
       "       'temf', 'toba', 'trof', 'vege', 'whea', 'yams'],\n",
       "      dtype='object')"
      ]
     },
     "execution_count": 25,
     "metadata": {},
     "output_type": "execute_result"
    }
   ],
   "source": [
    "data.columns[21:]"
   ]
  },
  {
   "cell_type": "code",
   "execution_count": 9,
   "metadata": {},
   "outputs": [
    {
     "data": {
      "text/html": [
       "<div>\n",
       "<style>\n",
       "    .dataframe thead tr:only-child th {\n",
       "        text-align: right;\n",
       "    }\n",
       "\n",
       "    .dataframe thead th {\n",
       "        text-align: left;\n",
       "    }\n",
       "\n",
       "    .dataframe tbody tr th {\n",
       "        vertical-align: top;\n",
       "    }\n",
       "</style>\n",
       "<table border=\"1\" class=\"dataframe\">\n",
       "  <thead>\n",
       "    <tr style=\"text-align: right;\">\n",
       "      <th></th>\n",
       "      <th>x</th>\n",
       "      <th>y</th>\n",
       "      <th>1</th>\n",
       "      <th>2</th>\n",
       "      <th>3</th>\n",
       "      <th>4</th>\n",
       "      <th>5</th>\n",
       "      <th>6</th>\n",
       "      <th>7</th>\n",
       "      <th>8</th>\n",
       "      <th>...</th>\n",
       "      <th>sugc</th>\n",
       "      <th>sunf</th>\n",
       "      <th>swpo</th>\n",
       "      <th>teas</th>\n",
       "      <th>temf</th>\n",
       "      <th>toba</th>\n",
       "      <th>trof</th>\n",
       "      <th>vege</th>\n",
       "      <th>whea</th>\n",
       "      <th>yams</th>\n",
       "    </tr>\n",
       "  </thead>\n",
       "  <tbody>\n",
       "    <tr>\n",
       "      <th>0</th>\n",
       "      <td>-37.166667</td>\n",
       "      <td>83.666667</td>\n",
       "      <td>0.0</td>\n",
       "      <td>0.0</td>\n",
       "      <td>17.645822</td>\n",
       "      <td>0.0</td>\n",
       "      <td>0.0</td>\n",
       "      <td>0.0</td>\n",
       "      <td>0.0</td>\n",
       "      <td>0.0</td>\n",
       "      <td>...</td>\n",
       "      <td>NaN</td>\n",
       "      <td>NaN</td>\n",
       "      <td>NaN</td>\n",
       "      <td>NaN</td>\n",
       "      <td>NaN</td>\n",
       "      <td>NaN</td>\n",
       "      <td>NaN</td>\n",
       "      <td>NaN</td>\n",
       "      <td>NaN</td>\n",
       "      <td>NaN</td>\n",
       "    </tr>\n",
       "    <tr>\n",
       "      <th>1</th>\n",
       "      <td>-37.083333</td>\n",
       "      <td>83.666667</td>\n",
       "      <td>0.0</td>\n",
       "      <td>0.0</td>\n",
       "      <td>19.059517</td>\n",
       "      <td>0.0</td>\n",
       "      <td>0.0</td>\n",
       "      <td>0.0</td>\n",
       "      <td>0.0</td>\n",
       "      <td>0.0</td>\n",
       "      <td>...</td>\n",
       "      <td>NaN</td>\n",
       "      <td>NaN</td>\n",
       "      <td>NaN</td>\n",
       "      <td>NaN</td>\n",
       "      <td>NaN</td>\n",
       "      <td>NaN</td>\n",
       "      <td>NaN</td>\n",
       "      <td>NaN</td>\n",
       "      <td>NaN</td>\n",
       "      <td>NaN</td>\n",
       "    </tr>\n",
       "    <tr>\n",
       "      <th>2</th>\n",
       "      <td>-37.000000</td>\n",
       "      <td>83.666667</td>\n",
       "      <td>0.0</td>\n",
       "      <td>0.0</td>\n",
       "      <td>20.045350</td>\n",
       "      <td>0.0</td>\n",
       "      <td>0.0</td>\n",
       "      <td>0.0</td>\n",
       "      <td>0.0</td>\n",
       "      <td>0.0</td>\n",
       "      <td>...</td>\n",
       "      <td>NaN</td>\n",
       "      <td>NaN</td>\n",
       "      <td>NaN</td>\n",
       "      <td>NaN</td>\n",
       "      <td>NaN</td>\n",
       "      <td>NaN</td>\n",
       "      <td>NaN</td>\n",
       "      <td>NaN</td>\n",
       "      <td>NaN</td>\n",
       "      <td>NaN</td>\n",
       "    </tr>\n",
       "    <tr>\n",
       "      <th>3</th>\n",
       "      <td>-36.916667</td>\n",
       "      <td>83.666667</td>\n",
       "      <td>0.0</td>\n",
       "      <td>0.0</td>\n",
       "      <td>19.985059</td>\n",
       "      <td>0.0</td>\n",
       "      <td>0.0</td>\n",
       "      <td>0.0</td>\n",
       "      <td>0.0</td>\n",
       "      <td>0.0</td>\n",
       "      <td>...</td>\n",
       "      <td>NaN</td>\n",
       "      <td>NaN</td>\n",
       "      <td>NaN</td>\n",
       "      <td>NaN</td>\n",
       "      <td>NaN</td>\n",
       "      <td>NaN</td>\n",
       "      <td>NaN</td>\n",
       "      <td>NaN</td>\n",
       "      <td>NaN</td>\n",
       "      <td>NaN</td>\n",
       "    </tr>\n",
       "    <tr>\n",
       "      <th>4</th>\n",
       "      <td>-36.833333</td>\n",
       "      <td>83.666667</td>\n",
       "      <td>0.0</td>\n",
       "      <td>0.0</td>\n",
       "      <td>19.797453</td>\n",
       "      <td>0.0</td>\n",
       "      <td>0.0</td>\n",
       "      <td>0.0</td>\n",
       "      <td>0.0</td>\n",
       "      <td>0.0</td>\n",
       "      <td>...</td>\n",
       "      <td>NaN</td>\n",
       "      <td>NaN</td>\n",
       "      <td>NaN</td>\n",
       "      <td>NaN</td>\n",
       "      <td>NaN</td>\n",
       "      <td>NaN</td>\n",
       "      <td>NaN</td>\n",
       "      <td>NaN</td>\n",
       "      <td>NaN</td>\n",
       "      <td>NaN</td>\n",
       "    </tr>\n",
       "  </tbody>\n",
       "</table>\n",
       "<p>5 rows × 63 columns</p>\n",
       "</div>"
      ],
      "text/plain": [
       "           x          y    1    2          3    4    5    6    7    8  ...   \\\n",
       "0 -37.166667  83.666667  0.0  0.0  17.645822  0.0  0.0  0.0  0.0  0.0  ...    \n",
       "1 -37.083333  83.666667  0.0  0.0  19.059517  0.0  0.0  0.0  0.0  0.0  ...    \n",
       "2 -37.000000  83.666667  0.0  0.0  20.045350  0.0  0.0  0.0  0.0  0.0  ...    \n",
       "3 -36.916667  83.666667  0.0  0.0  19.985059  0.0  0.0  0.0  0.0  0.0  ...    \n",
       "4 -36.833333  83.666667  0.0  0.0  19.797453  0.0  0.0  0.0  0.0  0.0  ...    \n",
       "\n",
       "   sugc  sunf  swpo  teas  temf  toba  trof  vege  whea  yams  \n",
       "0   NaN   NaN   NaN   NaN   NaN   NaN   NaN   NaN   NaN   NaN  \n",
       "1   NaN   NaN   NaN   NaN   NaN   NaN   NaN   NaN   NaN   NaN  \n",
       "2   NaN   NaN   NaN   NaN   NaN   NaN   NaN   NaN   NaN   NaN  \n",
       "3   NaN   NaN   NaN   NaN   NaN   NaN   NaN   NaN   NaN   NaN  \n",
       "4   NaN   NaN   NaN   NaN   NaN   NaN   NaN   NaN   NaN   NaN  \n",
       "\n",
       "[5 rows x 63 columns]"
      ]
     },
     "execution_count": 9,
     "metadata": {},
     "output_type": "execute_result"
    }
   ],
   "source": [
    "data.head()"
   ]
  },
  {
   "cell_type": "code",
   "execution_count": 11,
   "metadata": {},
   "outputs": [
    {
     "name": "stdout",
     "output_type": "stream",
     "text": [
      "Number of NaNs in the dataframe:\n",
      " x            0\n",
      "y            0\n",
      "1            0\n",
      "2            0\n",
      "3            0\n",
      "4            0\n",
      "5            0\n",
      "6            0\n",
      "7            0\n",
      "8            0\n",
      "9            0\n",
      "10           0\n",
      "11           0\n",
      "12           0\n",
      "13           0\n",
      "14           0\n",
      "15           0\n",
      "16           0\n",
      "17           0\n",
      "18           0\n",
      "19           0\n",
      "acof    437177\n",
      "bana    437177\n",
      "barl    437177\n",
      "bean    437177\n",
      "cass    437177\n",
      "chic    437177\n",
      "cnut    437177\n",
      "coco    437177\n",
      "cott    437177\n",
      "         ...  \n",
      "maiz    437177\n",
      "ocer    437177\n",
      "ofib    437177\n",
      "oilp    437177\n",
      "ooil    437177\n",
      "opul    437177\n",
      "orts    437177\n",
      "pige    437177\n",
      "plnt    437177\n",
      "pmil    437177\n",
      "pota    437177\n",
      "rape    437177\n",
      "rcof    437177\n",
      "rest    437177\n",
      "rice    437177\n",
      "sesa    437177\n",
      "smil    437177\n",
      "sorg    437177\n",
      "soyb    437177\n",
      "sugb    437177\n",
      "sugc    437177\n",
      "sunf    437177\n",
      "swpo    437177\n",
      "teas    437177\n",
      "temf    437177\n",
      "toba    437177\n",
      "trof    437177\n",
      "vege    437177\n",
      "whea    437177\n",
      "yams    437177\n",
      "Length: 63, dtype: int64\n"
     ]
    }
   ],
   "source": [
    "print('Number of NaNs in the dataframe:\\n',data.isnull().sum())"
   ]
  },
  {
   "cell_type": "code",
   "execution_count": 80,
   "metadata": {},
   "outputs": [],
   "source": [
    "data_no_nan= data[data['bana'].notnull()]\n",
    "data_nan = data[data['bana'].isnull()]"
   ]
  },
  {
   "cell_type": "code",
   "execution_count": 37,
   "metadata": {},
   "outputs": [
    {
     "data": {
      "text/plain": [
       "437177"
      ]
     },
     "execution_count": 37,
     "metadata": {},
     "output_type": "execute_result"
    }
   ],
   "source": [
    "data['acof'].isnull().sum()"
   ]
  },
  {
   "cell_type": "code",
   "execution_count": 38,
   "metadata": {
    "scrolled": true
   },
   "outputs": [
    {
     "data": {
      "text/plain": [
       "(array([    427.,   12285.,   28064.,   50121.,   35938.,  130105.,\n",
       "          66361.,   46808.,   56249.,   10819.]),\n",
       " array([ -1.80000000e+02,  -1.44008333e+02,  -1.08016667e+02,\n",
       "         -7.20250000e+01,  -3.60333333e+01,  -4.16666500e-02,\n",
       "          3.59500000e+01,   7.19416667e+01,   1.07933333e+02,\n",
       "          1.43925000e+02,   1.79916667e+02]),\n",
       " <a list of 10 Patch objects>)"
      ]
     },
     "execution_count": 38,
     "metadata": {},
     "output_type": "execute_result"
    },
    {
     "data": {
      "image/png": "[encoded data removed]",
      "text/plain": [
       "<matplotlib.figure.Figure at 0x1511506ba8>"
      ]
     },
     "metadata": {},
     "output_type": "display_data"
    }
   ],
   "source": [
    "plt.hist(data[data['bana'].isnull()]['x'])"
   ]
  },
  {
   "cell_type": "code",
   "execution_count": 43,
   "metadata": {},
   "outputs": [
    {
     "data": {
      "text/plain": [
       "(array([    510.,    5945.,   69111.,  114745.,   27506.,  140435.,\n",
       "          74095.,   86344.,   81804.,   10903.]),\n",
       " array([ -1.80000000e+02,  -1.44008333e+02,  -1.08016667e+02,\n",
       "         -7.20250000e+01,  -3.60333333e+01,  -4.16666500e-02,\n",
       "          3.59500000e+01,   7.19416667e+01,   1.07933333e+02,\n",
       "          1.43925000e+02,   1.79916667e+02]),\n",
       " <a list of 10 Patch objects>)"
      ]
     },
     "execution_count": 43,
     "metadata": {},
     "output_type": "execute_result"
    },
    {
     "data": {
      "image/png": "[encoded data removed]",
      "text/plain": [
       "<matplotlib.figure.Figure at 0x15115e1cc0>"
      ]
     },
     "metadata": {},
     "output_type": "display_data"
    }
   ],
   "source": [
    "plt.hist(data[data['bana'].notnull()]['x'])"
   ]
  },
  {
   "cell_type": "code",
   "execution_count": 42,
   "metadata": {},
   "outputs": [
    {
     "data": {
      "text/plain": [
       "(array([  7.10420000e+04,   3.29640000e+04,   4.38010000e+04,\n",
       "          3.91440000e+04,   1.06617000e+05,   1.27647000e+05,\n",
       "          1.59550000e+04,   0.00000000e+00,   0.00000000e+00,\n",
       "          7.00000000e+00]),\n",
       " array([-32.        , -20.43333333,  -8.86666667,   2.7       ,\n",
       "         14.26666667,  25.83333333,  37.4       ,  48.96666667,\n",
       "         60.53333334,  72.1       ,  83.66666667]),\n",
       " <a list of 10 Patch objects>)"
      ]
     },
     "execution_count": 42,
     "metadata": {},
     "output_type": "execute_result"
    },
    {
     "data": {
      "image/png": "[encoded data removed]",
      "text/plain": [
       "<matplotlib.figure.Figure at 0x1511db6048>"
      ]
     },
     "metadata": {},
     "output_type": "display_data"
    }
   ],
   "source": [
    "plt.hist(data[data['bana'].isnull()]['y'])"
   ]
  },
  {
   "cell_type": "code",
   "execution_count": 44,
   "metadata": {
    "scrolled": true
   },
   "outputs": [
    {
     "data": {
      "text/plain": [
       "(array([ 24317.,  63567.,  64201.,  65346.,  57728.,  63902.,  60164.,\n",
       "         55003.,  69594.,  87576.]),\n",
       " array([-32.        , -24.90833333, -17.81666667, -10.725     ,\n",
       "         -3.63333333,   3.45833333,  10.55      ,  17.64166667,\n",
       "         24.73333334,  31.825     ,  38.91666667]),\n",
       " <a list of 10 Patch objects>)"
      ]
     },
     "execution_count": 44,
     "metadata": {},
     "output_type": "execute_result"
    },
    {
     "data": {
      "image/png": "[encoded data removed]",
      "text/plain": [
       "<matplotlib.figure.Figure at 0x1512054cc0>"
      ]
     },
     "metadata": {},
     "output_type": "display_data"
    }
   ],
   "source": [
    "plt.hist(data[data['bana'].notnull()]['y'])"
   ]
  },
  {
   "cell_type": "code",
   "execution_count": 56,
   "metadata": {},
   "outputs": [
    {
     "data": {
      "text/plain": [
       "Index(['acof', 'bana', 'barl', 'bean', 'cass', 'chic', 'cnut', 'coco', 'cott',\n",
       "       'cowp', 'grou', 'lent', 'maiz', 'ocer', 'ofib', 'oilp', 'ooil', 'opul',\n",
       "       'orts', 'pige', 'plnt', 'pmil', 'pota', 'rape', 'rcof', 'rest', 'rice',\n",
       "       'sesa', 'smil', 'sorg', 'soyb', 'sugb', 'sugc', 'sunf', 'swpo', 'teas',\n",
       "       'temf', 'toba', 'trof', 'vege', 'whea', 'yams'],\n",
       "      dtype='object')"
      ]
     },
     "execution_count": 56,
     "metadata": {},
     "output_type": "execute_result"
    }
   ],
   "source": [
    "data.columns[21:]"
   ]
  },
  {
   "cell_type": "code",
   "execution_count": 59,
   "metadata": {},
   "outputs": [],
   "source": [
    "X = data_no_nan.iloc[:,:21] #features of our data, that is, non-NaN"
   ]
  },
  {
   "cell_type": "code",
   "execution_count": null,
   "metadata": {
    "collapsed": true
   },
   "outputs": [],
   "source": [
    "#start of iteration"
   ]
  },
  {
   "cell_type": "code",
   "execution_count": 70,
   "metadata": {},
   "outputs": [],
   "source": [
    "Y_acof = data_no_nan['acof']"
   ]
  },
  {
   "cell_type": "code",
   "execution_count": 49,
   "metadata": {
    "collapsed": true
   },
   "outputs": [],
   "source": [
    "from sklearn.model_selection import train_test_split"
   ]
  },
  {
   "cell_type": "code",
   "execution_count": 71,
   "metadata": {},
   "outputs": [],
   "source": [
    "x_train,x_test,y_train,y_test = train_test_split(X,Y_acof, test_size = 0.15, random_state = 42)"
   ]
  },
  {
   "cell_type": "code",
   "execution_count": 72,
   "metadata": {
    "collapsed": true
   },
   "outputs": [],
   "source": [
    "from sklearn.linear_model import Lasso"
   ]
  },
  {
   "cell_type": "code",
   "execution_count": 82,
   "metadata": {
    "collapsed": true
   },
   "outputs": [],
   "source": [
    "model = Lasso()"
   ]
  },
  {
   "cell_type": "code",
   "execution_count": 77,
   "metadata": {},
   "outputs": [],
   "source": [
    "lassoreg = Lasso.fit(model, X, Y_acof)"
   ]
  },
  {
   "cell_type": "code",
   "execution_count": 84,
   "metadata": {},
   "outputs": [
    {
     "data": {
      "text/plain": [
       "array([-0.07810121, -0.003695  , -0.        , -0.        , -0.00180817,\n",
       "       -0.00405167, -0.        ,  0.        , -0.38729945, -0.1771489 ,\n",
       "        0.        , -0.        , -0.22598592,  0.01010514,  0.08820888,\n",
       "        0.        , -0.00709668, -0.04464028, -0.0189893 ,  0.0075723 ,\n",
       "       -0.00811025])"
      ]
     },
     "execution_count": 84,
     "metadata": {},
     "output_type": "execute_result"
    }
   ],
   "source": [
    "lassoreg.coef_"
   ]
  },
  {
   "cell_type": "code",
   "execution_count": 89,
   "metadata": {},
   "outputs": [],
   "source": [
    "p1 =lassoreg.predict(x_train) # train predictions"
   ]
  },
  {
   "cell_type": "code",
   "execution_count": 90,
   "metadata": {},
   "outputs": [],
   "source": [
    "p2 = lassoreg.predict(x_test) #test set predictions"
   ]
  },
  {
   "cell_type": "code",
   "execution_count": 91,
   "metadata": {},
   "outputs": [],
   "source": [
    "p3 = lassoreg.predict(data_nan.iloc[:,:21]) #nan predictions"
   ]
  },
  {
   "cell_type": "code",
   "execution_count": 93,
   "metadata": {},
   "outputs": [
    {
     "data": {
      "text/plain": [
       "1048575"
      ]
     },
     "execution_count": 93,
     "metadata": {},
     "output_type": "execute_result"
    }
   ],
   "source": [
    "len(p1) + len(p2) + len(p3)"
   ]
  },
  {
   "cell_type": "code",
   "execution_count": 96,
   "metadata": {},
   "outputs": [
    {
     "data": {
      "text/plain": [
       "(array([ -0.21957631,  12.89779177,  12.57903566, ...,   8.61261111,\n",
       "         15.10079547, -10.67268104]),)"
      ]
     },
     "execution_count": 96,
     "metadata": {},
     "output_type": "execute_result"
    }
   ],
   "source": [
    "p1,"
   ]
  },
  {
   "cell_type": "code",
   "execution_count": 102,
   "metadata": {},
   "outputs": [],
   "source": [
    "prediction_1 = x_test.drop(['1','2','3','4','5','6','7','8','9','10','11','12','13','14','15','16','17','18','19'], axis = 1)\n",
    "prediction_1['Prediction'] = p2"
   ]
  },
  {
   "cell_type": "code",
   "execution_count": 107,
   "metadata": {},
   "outputs": [
    {
     "data": {
      "text/html": [
       "<div>\n",
       "<style>\n",
       "    .dataframe thead tr:only-child th {\n",
       "        text-align: right;\n",
       "    }\n",
       "\n",
       "    .dataframe thead th {\n",
       "        text-align: left;\n",
       "    }\n",
       "\n",
       "    .dataframe tbody tr th {\n",
       "        vertical-align: top;\n",
       "    }\n",
       "</style>\n",
       "<table border=\"1\" class=\"dataframe\">\n",
       "  <thead>\n",
       "    <tr style=\"text-align: right;\">\n",
       "      <th></th>\n",
       "      <th>x</th>\n",
       "      <th>y</th>\n",
       "      <th>Prediction</th>\n",
       "    </tr>\n",
       "  </thead>\n",
       "  <tbody>\n",
       "    <tr>\n",
       "      <th>507703</th>\n",
       "      <td>43.916667</td>\n",
       "      <td>12.666667</td>\n",
       "      <td>-1.207198</td>\n",
       "    </tr>\n",
       "    <tr>\n",
       "      <th>296919</th>\n",
       "      <td>4.666667</td>\n",
       "      <td>25.500000</td>\n",
       "      <td>-1.031446</td>\n",
       "    </tr>\n",
       "    <tr>\n",
       "      <th>748475</th>\n",
       "      <td>-68.166667</td>\n",
       "      <td>-6.666667</td>\n",
       "      <td>22.387496</td>\n",
       "    </tr>\n",
       "    <tr>\n",
       "      <th>263257</th>\n",
       "      <td>78.333333</td>\n",
       "      <td>27.166667</td>\n",
       "      <td>-5.952849</td>\n",
       "    </tr>\n",
       "    <tr>\n",
       "      <th>608110</th>\n",
       "      <td>5.916667</td>\n",
       "      <td>4.750000</td>\n",
       "      <td>13.893177</td>\n",
       "    </tr>\n",
       "    <tr>\n",
       "      <th>299426</th>\n",
       "      <td>82.500000</td>\n",
       "      <td>25.416667</td>\n",
       "      <td>-7.360679</td>\n",
       "    </tr>\n",
       "    <tr>\n",
       "      <th>695344</th>\n",
       "      <td>30.750000</td>\n",
       "      <td>-2.583333</td>\n",
       "      <td>9.649560</td>\n",
       "    </tr>\n",
       "    <tr>\n",
       "      <th>765027</th>\n",
       "      <td>-37.833333</td>\n",
       "      <td>-7.916667</td>\n",
       "      <td>12.156585</td>\n",
       "    </tr>\n",
       "    <tr>\n",
       "      <th>610374</th>\n",
       "      <td>34.166667</td>\n",
       "      <td>4.583333</td>\n",
       "      <td>3.912740</td>\n",
       "    </tr>\n",
       "    <tr>\n",
       "      <th>550132</th>\n",
       "      <td>-11.916667</td>\n",
       "      <td>9.250000</td>\n",
       "      <td>4.960730</td>\n",
       "    </tr>\n",
       "    <tr>\n",
       "      <th>281203</th>\n",
       "      <td>-105.750000</td>\n",
       "      <td>26.250000</td>\n",
       "      <td>13.160958</td>\n",
       "    </tr>\n",
       "    <tr>\n",
       "      <th>93264</th>\n",
       "      <td>64.416667</td>\n",
       "      <td>34.833333</td>\n",
       "      <td>-1.206585</td>\n",
       "    </tr>\n",
       "    <tr>\n",
       "      <th>84534</th>\n",
       "      <td>140.166667</td>\n",
       "      <td>35.250000</td>\n",
       "      <td>0.287014</td>\n",
       "    </tr>\n",
       "    <tr>\n",
       "      <th>294564</th>\n",
       "      <td>99.583333</td>\n",
       "      <td>25.666667</td>\n",
       "      <td>2.816659</td>\n",
       "    </tr>\n",
       "    <tr>\n",
       "      <th>864009</th>\n",
       "      <td>-40.833333</td>\n",
       "      <td>-16.583333</td>\n",
       "      <td>13.305818</td>\n",
       "    </tr>\n",
       "    <tr>\n",
       "      <th>87106</th>\n",
       "      <td>3.166667</td>\n",
       "      <td>35.083333</td>\n",
       "      <td>3.805570</td>\n",
       "    </tr>\n",
       "    <tr>\n",
       "      <th>494885</th>\n",
       "      <td>6.833333</td>\n",
       "      <td>13.666667</td>\n",
       "      <td>1.764159</td>\n",
       "    </tr>\n",
       "    <tr>\n",
       "      <th>616440</th>\n",
       "      <td>-56.833333</td>\n",
       "      <td>4.000000</td>\n",
       "      <td>15.885914</td>\n",
       "    </tr>\n",
       "    <tr>\n",
       "      <th>70691</th>\n",
       "      <td>66.666667</td>\n",
       "      <td>35.833333</td>\n",
       "      <td>-1.574460</td>\n",
       "    </tr>\n",
       "    <tr>\n",
       "      <th>898735</th>\n",
       "      <td>-46.583333</td>\n",
       "      <td>-19.333333</td>\n",
       "      <td>20.596894</td>\n",
       "    </tr>\n",
       "    <tr>\n",
       "      <th>898472</th>\n",
       "      <td>-68.500000</td>\n",
       "      <td>-19.333333</td>\n",
       "      <td>14.932491</td>\n",
       "    </tr>\n",
       "    <tr>\n",
       "      <th>700700</th>\n",
       "      <td>-58.000000</td>\n",
       "      <td>-3.000000</td>\n",
       "      <td>13.284122</td>\n",
       "    </tr>\n",
       "    <tr>\n",
       "      <th>679032</th>\n",
       "      <td>33.250000</td>\n",
       "      <td>-1.333333</td>\n",
       "      <td>13.826859</td>\n",
       "    </tr>\n",
       "    <tr>\n",
       "      <th>373383</th>\n",
       "      <td>109.666667</td>\n",
       "      <td>21.583333</td>\n",
       "      <td>4.382941</td>\n",
       "    </tr>\n",
       "    <tr>\n",
       "      <th>271826</th>\n",
       "      <td>62.083333</td>\n",
       "      <td>26.750000</td>\n",
       "      <td>-5.770754</td>\n",
       "    </tr>\n",
       "    <tr>\n",
       "      <th>298119</th>\n",
       "      <td>113.333333</td>\n",
       "      <td>25.500000</td>\n",
       "      <td>0.628882</td>\n",
       "    </tr>\n",
       "    <tr>\n",
       "      <th>646703</th>\n",
       "      <td>-78.000000</td>\n",
       "      <td>1.250000</td>\n",
       "      <td>22.728146</td>\n",
       "    </tr>\n",
       "    <tr>\n",
       "      <th>793419</th>\n",
       "      <td>17.916667</td>\n",
       "      <td>-10.333333</td>\n",
       "      <td>11.933411</td>\n",
       "    </tr>\n",
       "    <tr>\n",
       "      <th>840907</th>\n",
       "      <td>-55.916667</td>\n",
       "      <td>-14.750000</td>\n",
       "      <td>16.226520</td>\n",
       "    </tr>\n",
       "    <tr>\n",
       "      <th>734272</th>\n",
       "      <td>35.583333</td>\n",
       "      <td>-5.500000</td>\n",
       "      <td>6.168430</td>\n",
       "    </tr>\n",
       "    <tr>\n",
       "      <th>...</th>\n",
       "      <td>...</td>\n",
       "      <td>...</td>\n",
       "      <td>...</td>\n",
       "    </tr>\n",
       "    <tr>\n",
       "      <th>408580</th>\n",
       "      <td>45.166667</td>\n",
       "      <td>19.500000</td>\n",
       "      <td>-4.715016</td>\n",
       "    </tr>\n",
       "    <tr>\n",
       "      <th>454480</th>\n",
       "      <td>-16.083333</td>\n",
       "      <td>16.583333</td>\n",
       "      <td>4.814135</td>\n",
       "    </tr>\n",
       "    <tr>\n",
       "      <th>703304</th>\n",
       "      <td>11.500000</td>\n",
       "      <td>-3.166667</td>\n",
       "      <td>21.619550</td>\n",
       "    </tr>\n",
       "    <tr>\n",
       "      <th>95226</th>\n",
       "      <td>71.250000</td>\n",
       "      <td>34.750000</td>\n",
       "      <td>-3.821286</td>\n",
       "    </tr>\n",
       "    <tr>\n",
       "      <th>172969</th>\n",
       "      <td>-85.166667</td>\n",
       "      <td>31.166667</td>\n",
       "      <td>13.027748</td>\n",
       "    </tr>\n",
       "    <tr>\n",
       "      <th>383541</th>\n",
       "      <td>86.416667</td>\n",
       "      <td>21.000000</td>\n",
       "      <td>2.224014</td>\n",
       "    </tr>\n",
       "    <tr>\n",
       "      <th>671941</th>\n",
       "      <td>-75.083333</td>\n",
       "      <td>-0.833333</td>\n",
       "      <td>16.679426</td>\n",
       "    </tr>\n",
       "    <tr>\n",
       "      <th>740900</th>\n",
       "      <td>145.750000</td>\n",
       "      <td>-6.000000</td>\n",
       "      <td>6.532842</td>\n",
       "    </tr>\n",
       "    <tr>\n",
       "      <th>378381</th>\n",
       "      <td>13.250000</td>\n",
       "      <td>21.250000</td>\n",
       "      <td>-3.785411</td>\n",
       "    </tr>\n",
       "    <tr>\n",
       "      <th>53271</th>\n",
       "      <td>-105.000000</td>\n",
       "      <td>36.583333</td>\n",
       "      <td>12.266200</td>\n",
       "    </tr>\n",
       "    <tr>\n",
       "      <th>849056</th>\n",
       "      <td>-55.916667</td>\n",
       "      <td>-15.416667</td>\n",
       "      <td>18.051455</td>\n",
       "    </tr>\n",
       "    <tr>\n",
       "      <th>974437</th>\n",
       "      <td>-56.000000</td>\n",
       "      <td>-25.250000</td>\n",
       "      <td>15.152344</td>\n",
       "    </tr>\n",
       "    <tr>\n",
       "      <th>278767</th>\n",
       "      <td>65.916667</td>\n",
       "      <td>26.416667</td>\n",
       "      <td>-3.972904</td>\n",
       "    </tr>\n",
       "    <tr>\n",
       "      <th>841238</th>\n",
       "      <td>22.916667</td>\n",
       "      <td>-14.750000</td>\n",
       "      <td>4.460134</td>\n",
       "    </tr>\n",
       "    <tr>\n",
       "      <th>155644</th>\n",
       "      <td>121.750000</td>\n",
       "      <td>32.000000</td>\n",
       "      <td>-4.041898</td>\n",
       "    </tr>\n",
       "    <tr>\n",
       "      <th>336477</th>\n",
       "      <td>86.583333</td>\n",
       "      <td>23.500000</td>\n",
       "      <td>-3.543968</td>\n",
       "    </tr>\n",
       "    <tr>\n",
       "      <th>563646</th>\n",
       "      <td>-12.000000</td>\n",
       "      <td>8.250000</td>\n",
       "      <td>5.698101</td>\n",
       "    </tr>\n",
       "    <tr>\n",
       "      <th>659147</th>\n",
       "      <td>-56.666667</td>\n",
       "      <td>0.250000</td>\n",
       "      <td>13.026100</td>\n",
       "    </tr>\n",
       "    <tr>\n",
       "      <th>964720</th>\n",
       "      <td>123.166667</td>\n",
       "      <td>-24.416667</td>\n",
       "      <td>-10.253572</td>\n",
       "    </tr>\n",
       "    <tr>\n",
       "      <th>932402</th>\n",
       "      <td>121.083333</td>\n",
       "      <td>-21.916667</td>\n",
       "      <td>-10.609749</td>\n",
       "    </tr>\n",
       "    <tr>\n",
       "      <th>313496</th>\n",
       "      <td>30.666667</td>\n",
       "      <td>24.666667</td>\n",
       "      <td>-3.574936</td>\n",
       "    </tr>\n",
       "    <tr>\n",
       "      <th>821266</th>\n",
       "      <td>14.000000</td>\n",
       "      <td>-13.000000</td>\n",
       "      <td>15.020637</td>\n",
       "    </tr>\n",
       "    <tr>\n",
       "      <th>716132</th>\n",
       "      <td>39.583333</td>\n",
       "      <td>-4.083333</td>\n",
       "      <td>11.544810</td>\n",
       "    </tr>\n",
       "    <tr>\n",
       "      <th>870774</th>\n",
       "      <td>33.666667</td>\n",
       "      <td>-17.083333</td>\n",
       "      <td>3.519986</td>\n",
       "    </tr>\n",
       "    <tr>\n",
       "      <th>879722</th>\n",
       "      <td>145.250000</td>\n",
       "      <td>-17.750000</td>\n",
       "      <td>-0.448793</td>\n",
       "    </tr>\n",
       "    <tr>\n",
       "      <th>519708</th>\n",
       "      <td>79.000000</td>\n",
       "      <td>11.666667</td>\n",
       "      <td>0.415145</td>\n",
       "    </tr>\n",
       "    <tr>\n",
       "      <th>887118</th>\n",
       "      <td>144.750000</td>\n",
       "      <td>-18.333333</td>\n",
       "      <td>-1.833070</td>\n",
       "    </tr>\n",
       "    <tr>\n",
       "      <th>771390</th>\n",
       "      <td>-41.333333</td>\n",
       "      <td>-8.416667</td>\n",
       "      <td>12.298591</td>\n",
       "    </tr>\n",
       "    <tr>\n",
       "      <th>803879</th>\n",
       "      <td>38.916667</td>\n",
       "      <td>-11.333333</td>\n",
       "      <td>4.090203</td>\n",
       "    </tr>\n",
       "    <tr>\n",
       "      <th>347530</th>\n",
       "      <td>72.250000</td>\n",
       "      <td>22.916667</td>\n",
       "      <td>-3.175167</td>\n",
       "    </tr>\n",
       "  </tbody>\n",
       "</table>\n",
       "<p>91710 rows × 3 columns</p>\n",
       "</div>"
      ],
      "text/plain": [
       "                 x          y  Prediction\n",
       "507703   43.916667  12.666667   -1.207198\n",
       "296919    4.666667  25.500000   -1.031446\n",
       "748475  -68.166667  -6.666667   22.387496\n",
       "263257   78.333333  27.166667   -5.952849\n",
       "608110    5.916667   4.750000   13.893177\n",
       "299426   82.500000  25.416667   -7.360679\n",
       "695344   30.750000  -2.583333    9.649560\n",
       "765027  -37.833333  -7.916667   12.156585\n",
       "610374   34.166667   4.583333    3.912740\n",
       "550132  -11.916667   9.250000    4.960730\n",
       "281203 -105.750000  26.250000   13.160958\n",
       "93264    64.416667  34.833333   -1.206585\n",
       "84534   140.166667  35.250000    0.287014\n",
       "294564   99.583333  25.666667    2.816659\n",
       "864009  -40.833333 -16.583333   13.305818\n",
       "87106     3.166667  35.083333    3.805570\n",
       "494885    6.833333  13.666667    1.764159\n",
       "616440  -56.833333   4.000000   15.885914\n",
       "70691    66.666667  35.833333   -1.574460\n",
       "898735  -46.583333 -19.333333   20.596894\n",
       "898472  -68.500000 -19.333333   14.932491\n",
       "700700  -58.000000  -3.000000   13.284122\n",
       "679032   33.250000  -1.333333   13.826859\n",
       "373383  109.666667  21.583333    4.382941\n",
       "271826   62.083333  26.750000   -5.770754\n",
       "298119  113.333333  25.500000    0.628882\n",
       "646703  -78.000000   1.250000   22.728146\n",
       "793419   17.916667 -10.333333   11.933411\n",
       "840907  -55.916667 -14.750000   16.226520\n",
       "734272   35.583333  -5.500000    6.168430\n",
       "...            ...        ...         ...\n",
       "408580   45.166667  19.500000   -4.715016\n",
       "454480  -16.083333  16.583333    4.814135\n",
       "703304   11.500000  -3.166667   21.619550\n",
       "95226    71.250000  34.750000   -3.821286\n",
       "172969  -85.166667  31.166667   13.027748\n",
       "383541   86.416667  21.000000    2.224014\n",
       "671941  -75.083333  -0.833333   16.679426\n",
       "740900  145.750000  -6.000000    6.532842\n",
       "378381   13.250000  21.250000   -3.785411\n",
       "53271  -105.000000  36.583333   12.266200\n",
       "849056  -55.916667 -15.416667   18.051455\n",
       "974437  -56.000000 -25.250000   15.152344\n",
       "278767   65.916667  26.416667   -3.972904\n",
       "841238   22.916667 -14.750000    4.460134\n",
       "155644  121.750000  32.000000   -4.041898\n",
       "336477   86.583333  23.500000   -3.543968\n",
       "563646  -12.000000   8.250000    5.698101\n",
       "659147  -56.666667   0.250000   13.026100\n",
       "964720  123.166667 -24.416667  -10.253572\n",
       "932402  121.083333 -21.916667  -10.609749\n",
       "313496   30.666667  24.666667   -3.574936\n",
       "821266   14.000000 -13.000000   15.020637\n",
       "716132   39.583333  -4.083333   11.544810\n",
       "870774   33.666667 -17.083333    3.519986\n",
       "879722  145.250000 -17.750000   -0.448793\n",
       "519708   79.000000  11.666667    0.415145\n",
       "887118  144.750000 -18.333333   -1.833070\n",
       "771390  -41.333333  -8.416667   12.298591\n",
       "803879   38.916667 -11.333333    4.090203\n",
       "347530   72.250000  22.916667   -3.175167\n",
       "\n",
       "[91710 rows x 3 columns]"
      ]
     },
     "execution_count": 107,
     "metadata": {},
     "output_type": "execute_result"
    }
   ],
   "source": [
    "prediction_1"
   ]
  },
  {
   "cell_type": "code",
   "execution_count": null,
   "metadata": {
    "collapsed": true
   },
   "outputs": [],
   "source": [
    "#iterate through all the crops, change hyperparameters, join 3 tables for three prediction sets (test, train, nan)"
   ]
  }
 ],
 "metadata": {
  "kernelspec": {
   "display_name": "Python 3",
   "language": "python",
   "name": "python3"
  },
  "language_info": {
   "codemirror_mode": {
    "name": "ipython",
    "version": 3
   },
   "file_extension": ".py",
   "mimetype": "text/x-python",
   "name": "python",
   "nbconvert_exporter": "python",
   "pygments_lexer": "ipython3",
   "version": "3.6.3"
  }
 },
 "nbformat": 4,
 "nbformat_minor": 2
}
